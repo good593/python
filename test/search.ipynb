{
 "cells": [
  {
   "cell_type": "markdown",
   "metadata": {},
   "source": [
    "- https://han-py.tistory.com/342\n",
    "### 선형 탐색"
   ]
  },
  {
   "cell_type": "code",
   "execution_count": 1,
   "metadata": {},
   "outputs": [],
   "source": [
    "def li_search(el, some_list):\n",
    "  for i in range(len(some_list)):\n",
    "    if some_list[i] == el:\n",
    "      return i \n",
    "  return None"
   ]
  },
  {
   "cell_type": "markdown",
   "metadata": {},
   "source": [
    "## 이진탐색\n",
    "- https://wayhome25.github.io/cs/2017/04/15/cs-16/"
   ]
  },
  {
   "cell_type": "code",
   "execution_count": 1,
   "metadata": {},
   "outputs": [
    {
     "data": {
      "text/plain": [
       "[0, 1, 4, 9, 16, 25, 36, 49, 64, 81, 100]"
      ]
     },
     "execution_count": 1,
     "metadata": {},
     "output_type": "execute_result"
    }
   ],
   "source": [
    "li = [i**2 for i in range(11)]\n",
    "li"
   ]
  },
  {
   "cell_type": "code",
   "execution_count": 2,
   "metadata": {},
   "outputs": [],
   "source": [
    "target = 9"
   ]
  },
  {
   "cell_type": "code",
   "execution_count": 6,
   "metadata": {},
   "outputs": [],
   "source": [
    "def fnc(target, li):\n",
    "  li.sort(reverse=False)\n",
    "  start = 0\n",
    "  end = len(li) -1\n",
    "\n",
    "  while start <= end:\n",
    "    mid = (start + end) // 2\n",
    "    if li[mid] == target:\n",
    "      return mid\n",
    "    elif li[mid] < target:\n",
    "      start = mid +1\n",
    "    else:\n",
    "      end = mid -1\n",
    "\n",
    "  return None"
   ]
  },
  {
   "cell_type": "code",
   "execution_count": 7,
   "metadata": {},
   "outputs": [
    {
     "data": {
      "text/plain": [
       "3"
      ]
     },
     "execution_count": 7,
     "metadata": {},
     "output_type": "execute_result"
    }
   ],
   "source": [
    "result = fnc(target, li)\n",
    "result"
   ]
  },
  {
   "cell_type": "code",
   "execution_count": 8,
   "metadata": {},
   "outputs": [],
   "source": [
    "def fnc1(target, li, start, end):\n",
    "  if start > end:\n",
    "    return None\n",
    "  \n",
    "  mid = (start + end) // 2\n",
    "  if li[mid] == target:\n",
    "    return mid \n",
    "  elif li[mid] < target:\n",
    "    start = mid +1\n",
    "  else:\n",
    "    end = mid -1\n",
    "\n",
    "  return fnc1(target, li, start, end)"
   ]
  },
  {
   "cell_type": "code",
   "execution_count": 9,
   "metadata": {},
   "outputs": [
    {
     "data": {
      "text/plain": [
       "3"
      ]
     },
     "execution_count": 9,
     "metadata": {},
     "output_type": "execute_result"
    }
   ],
   "source": [
    "end = len(li) -1\n",
    "result = fnc1(target, li, 0, end)\n",
    "result"
   ]
  },
  {
   "cell_type": "code",
   "execution_count": null,
   "metadata": {},
   "outputs": [],
   "source": []
  }
 ],
 "metadata": {
  "interpreter": {
   "hash": "f7e437f51093040c186fe1fdf3815d5791d8856d54a1d09b959b5ae0e56a4015"
  },
  "kernelspec": {
   "display_name": "Python 3.9.10 64-bit ('study3.9')",
   "language": "python",
   "name": "python3"
  },
  "language_info": {
   "codemirror_mode": {
    "name": "ipython",
    "version": 3
   },
   "file_extension": ".py",
   "mimetype": "text/x-python",
   "name": "python",
   "nbconvert_exporter": "python",
   "pygments_lexer": "ipython3",
   "version": "3.9.10"
  },
  "orig_nbformat": 4
 },
 "nbformat": 4,
 "nbformat_minor": 2
}
