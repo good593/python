{
 "cells": [
  {
   "cell_type": "markdown",
   "metadata": {},
   "source": [
    "- https://ybworld.tistory.com/72\n",
    "### Palindrome\n",
    "> 어떤 단어나 특정 문장을 뒤집어도 같은 말이 되는 것을 말한다.   \n",
    "> 예를 들면 '일요일', '스위스' 같은 단어가 있다."
   ]
  },
  {
   "cell_type": "code",
   "execution_count": 20,
   "metadata": {},
   "outputs": [],
   "source": [
    "import re \n",
    "\n",
    "def isPalindrome(s:str) -> bool:\n",
    "  # 대소문자 구분 제거\n",
    "  str_test = s.lower()\n",
    "  # 띄어쓰기 제거\n",
    "  str_test = str_test.replace(\" \",\"\")\n",
    "  # 특수문자 제거\n",
    "  str_test = re.sub('[^A-Za-z0-9가-힣]', '', str_test)\n",
    "\n",
    "  str_reverse = str_test[::-1]\n",
    "\n",
    "  if str_test == str_reverse:\n",
    "    return True \n",
    "  else:\n",
    "    return False \n"
   ]
  },
  {
   "cell_type": "code",
   "execution_count": 4,
   "metadata": {},
   "outputs": [
    {
     "data": {
      "text/plain": [
       "False"
      ]
     },
     "execution_count": 4,
     "metadata": {},
     "output_type": "execute_result"
    }
   ],
   "source": [
    "s = \"A man, a plan\"\n",
    "isPalindrome(s)"
   ]
  },
  {
   "cell_type": "code",
   "execution_count": 6,
   "metadata": {},
   "outputs": [
    {
     "data": {
      "text/plain": [
       "True"
      ]
     },
     "execution_count": 6,
     "metadata": {},
     "output_type": "execute_result"
    }
   ],
   "source": [
    "s = '스위스'\n",
    "isPalindrome(s)"
   ]
  },
  {
   "cell_type": "code",
   "execution_count": null,
   "metadata": {},
   "outputs": [],
   "source": []
  }
 ],
 "metadata": {
  "interpreter": {
   "hash": "f7e437f51093040c186fe1fdf3815d5791d8856d54a1d09b959b5ae0e56a4015"
  },
  "kernelspec": {
   "display_name": "Python 3.9.10 64-bit ('study3.9')",
   "language": "python",
   "name": "python3"
  },
  "language_info": {
   "codemirror_mode": {
    "name": "ipython",
    "version": 3
   },
   "file_extension": ".py",
   "mimetype": "text/x-python",
   "name": "python",
   "nbconvert_exporter": "python",
   "pygments_lexer": "ipython3",
   "version": "3.9.10"
  },
  "orig_nbformat": 4
 },
 "nbformat": 4,
 "nbformat_minor": 2
}
