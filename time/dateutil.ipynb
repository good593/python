{
 "cells": [
  {
   "cell_type": "markdown",
   "metadata": {},
   "source": [
    "- https://dateutil.readthedocs.io/en/stable/\n",
    "\n",
    "### Features\n",
    "- computing of relative deltas (next month, next year, next monday, last week of month, etc)\n",
    "- computing of relative deltas between two given date and/or datetime objects\n",
    "- computing of dates based on very flexible recurrence rules, using a superset of the iCalenda specification. Parsing of RFC strings is supported as well.\n",
    "- Generic parsing of dates in almost any string format\n",
    "- Timezone (tzinfo) implementations of tzfile(5) format files, TZ environment string, iCalendar format files, given ranges, local machine timezone, fixed offset timezone, UTC timezone, and Windows registry-based time zones.\n",
    "- Internal up-to-date world timezone information based on Olson's database.\n",
    "- computing of Easter Sunday dates for any given year, using Western, Orthodox or Julian algorithms\n",
    "- a comprehensive test suite"
   ]
  },
  {
   "cell_type": "markdown",
   "metadata": {},
   "source": [
    "## relativedelta examples"
   ]
  },
  {
   "cell_type": "code",
   "execution_count": 1,
   "metadata": {},
   "outputs": [],
   "source": [
    "from datetime import * \n",
    "from dateutil.relativedelta import *\n",
    "import calendar"
   ]
  },
  {
   "cell_type": "code",
   "execution_count": 2,
   "metadata": {},
   "outputs": [
    {
     "data": {
      "text/plain": [
       "(datetime.datetime(2022, 4, 25, 19, 21, 5, 419685), datetime.date(2022, 4, 25))"
      ]
     },
     "execution_count": 2,
     "metadata": {},
     "output_type": "execute_result"
    }
   ],
   "source": [
    "# store some values\n",
    "now = datetime.now()\n",
    "today = date.today()\n",
    "now, today"
   ]
  },
  {
   "cell_type": "code",
   "execution_count": 5,
   "metadata": {},
   "outputs": [
    {
     "data": {
      "text/plain": [
       "datetime.datetime(2022, 6, 1, 10, 0)"
      ]
     },
     "execution_count": 5,
     "metadata": {},
     "output_type": "execute_result"
    }
   ],
   "source": [
    "# next month, plus one week, at 10am\n",
    "today + relativedelta(months=+1, weeks=+1, hour=10)"
   ]
  },
  {
   "cell_type": "code",
   "execution_count": 7,
   "metadata": {},
   "outputs": [
    {
     "data": {
      "text/plain": [
       "datetime.datetime(1, 1, 25, 19, 21, 5, 419685)"
      ]
     },
     "execution_count": 7,
     "metadata": {},
     "output_type": "execute_result"
    }
   ],
   "source": [
    "\"\"\"\n",
    "here is another example using an absolute relativedelta. notice the use of year and month which causes the values to be replaced in the original datetime rather than performing an arithmetic operation on them.\n",
    "\"\"\"\n",
    "now + relativedelta(year=1, month=1)"
   ]
  },
  {
   "cell_type": "code",
   "execution_count": 8,
   "metadata": {},
   "outputs": [
    {
     "data": {
      "text/plain": [
       "relativedelta(years=-18, months=-6, hours=-14)"
      ]
     },
     "execution_count": 8,
     "metadata": {},
     "output_type": "execute_result"
    }
   ],
   "source": [
    "\"\"\"\n",
    "let's try the other way around. notice that the hour setting we get in the relativedelta is relative, since it's a difference, and the weeks parameter has gone.\n",
    "\"\"\"\n",
    "relativedelta(datetime(2003, 10, 24, 10, 0), today)"
   ]
  },
  {
   "cell_type": "code",
   "execution_count": 9,
   "metadata": {},
   "outputs": [
    {
     "data": {
      "text/plain": [
       "datetime.datetime(2023, 3, 25, 19, 21, 5, 419685)"
      ]
     },
     "execution_count": 9,
     "metadata": {},
     "output_type": "execute_result"
    }
   ],
   "source": [
    "# one month before one year\n",
    "now + relativedelta(years=+1, months=-1)"
   ]
  },
  {
   "cell_type": "code",
   "execution_count": 11,
   "metadata": {},
   "outputs": [
    {
     "name": "stdout",
     "output_type": "stream",
     "text": [
      "2003-02-27\n",
      "2003-02-28\n",
      "2003-03-27\n"
     ]
    }
   ],
   "source": [
    "\"\"\"\n",
    "how does it handle months with different numbers of days? notice that adding one month will never cross the month boundary\n",
    "\"\"\"\n",
    "print(date(2003, 1, 27) + relativedelta(months=+1))\n",
    "print(date(2003, 1, 31) + relativedelta(months=+1)) # not 2003-02-31\n",
    "print(date(2003, 1, 27) + relativedelta(months=+2))"
   ]
  },
  {
   "cell_type": "code",
   "execution_count": 15,
   "metadata": {},
   "outputs": [
    {
     "name": "stdout",
     "output_type": "stream",
     "text": [
      "2022-04-29\n",
      "2022-04-29\n"
     ]
    }
   ],
   "source": [
    "# next friday\n",
    "print(today + relativedelta(weekday=FR))\n",
    "print(today + relativedelta(weekday=calendar.FRIDAY))"
   ]
  },
  {
   "cell_type": "code",
   "execution_count": 14,
   "metadata": {},
   "outputs": [
    {
     "data": {
      "text/plain": [
       "datetime.date(2022, 4, 29)"
      ]
     },
     "execution_count": 14,
     "metadata": {},
     "output_type": "execute_result"
    }
   ],
   "source": [
    "# last friday in this month\n",
    "today + relativedelta(day=31, weekday=FR(-1))"
   ]
  },
  {
   "cell_type": "code",
   "execution_count": 18,
   "metadata": {},
   "outputs": [
    {
     "data": {
      "text/plain": [
       "datetime.date(2022, 4, 27)"
      ]
     },
     "execution_count": 18,
     "metadata": {},
     "output_type": "execute_result"
    }
   ],
   "source": [
    "# next wednesday, but not today (if today is wednesday)\n",
    "today + relativedelta(days=+1, weekday=WE(+1))"
   ]
  },
  {
   "cell_type": "code",
   "execution_count": 19,
   "metadata": {},
   "outputs": [
    {
     "data": {
      "text/plain": [
       "relativedelta(years=+21, months=+3, days=+24, hours=+19, minutes=+21, seconds=+5, microseconds=+419685)"
      ]
     },
     "execution_count": 19,
     "metadata": {},
     "output_type": "execute_result"
    }
   ],
   "source": [
    "# how long ago has the millennium changed?\n",
    "relativedelta(now, date(2001, 1, 1))"
   ]
  },
  {
   "cell_type": "code",
   "execution_count": 20,
   "metadata": {},
   "outputs": [
    {
     "data": {
      "text/plain": [
       "relativedelta(years=+40, months=+11, days=+11, hours=+1, minutes=+21, seconds=+5, microseconds=+419685)"
      ]
     },
     "execution_count": 20,
     "metadata": {},
     "output_type": "execute_result"
    }
   ],
   "source": [
    "# how old is John?\n",
    "johnbirthday = datetime(1981, 5, 14, 18, 0)\n",
    "relativedelta(now, johnbirthday)"
   ]
  },
  {
   "cell_type": "code",
   "execution_count": null,
   "metadata": {},
   "outputs": [],
   "source": []
  }
 ],
 "metadata": {
  "interpreter": {
   "hash": "819822aad1d7dd5a8911f6442f86af1dcc8bcd014a1dc82c30af569169ee7dac"
  },
  "kernelspec": {
   "display_name": "Python 3.9.10 64-bit ('pytorch3.9')",
   "language": "python",
   "name": "python3"
  },
  "language_info": {
   "codemirror_mode": {
    "name": "ipython",
    "version": 3
   },
   "file_extension": ".py",
   "mimetype": "text/x-python",
   "name": "python",
   "nbconvert_exporter": "python",
   "pygments_lexer": "ipython3",
   "version": "3.9.10+"
  },
  "orig_nbformat": 4
 },
 "nbformat": 4,
 "nbformat_minor": 2
}
