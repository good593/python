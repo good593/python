{
 "cells": [
  {
   "cell_type": "markdown",
   "metadata": {},
   "source": [
    "- https://wikidocs.net/84390"
   ]
  },
  {
   "cell_type": "markdown",
   "metadata": {},
   "source": [
    "### 포맷 코드\n",
    "> 포맷 코드(`{}` 내의 `:` 이후)는 C의 `printf()`와 비슷하다. 일반적인 코드는 다음과 같다.\n",
    "- d : 십진 정수\n",
    "- b : 이진 정수\n",
    "- x : 16진 정수\n",
    "- f : 부동소수점수 `[-]m.dddddd`\n",
    "- e : 부동소수점수 `[-]m.dddddde+-xx`\n",
    "- g : E 표기를 선택적으로 사용하는 부동소수점\n",
    "- s : 문자열\n",
    "- c : 문자(정수로부터)     \n",
    "----    \n",
    "```shell\n",
    ":>10d   정수를 10자리 필드에 오른쪽 정렬\n",
    ":<10d   정수를 10자리 필드에 왼쪽 정렬\n",
    ":^10d   정수를 10자리 필드에 가운데 정렬\n",
    ":0.2f   부동소수점수를 두 자리 정밀도로 나타냄\n",
    "```"
   ]
  },
  {
   "cell_type": "code",
   "execution_count": 1,
   "metadata": {},
   "outputs": [
    {
     "name": "stdout",
     "output_type": "stream",
     "text": [
      "       IBM        100      91.10\n"
     ]
    }
   ],
   "source": [
    "name = 'IBM'\n",
    "shares = 100\n",
    "price = 91.1 \n",
    "print(f'{name:>10s} {shares:>10d} {price:>10.2f}')"
   ]
  },
  {
   "cell_type": "markdown",
   "metadata": {},
   "source": [
    "### C 스타일 포매팅\n",
    "> 포매팅 연산자 `%`를 사용할 수도 있다."
   ]
  },
  {
   "cell_type": "code",
   "execution_count": 7,
   "metadata": {},
   "outputs": [
    {
     "name": "stdout",
     "output_type": "stream",
     "text": [
      "The value is 3\n",
      "    3 4              5\n",
      "3.14\n"
     ]
    }
   ],
   "source": [
    "print('The value is %d' %3)\n",
    "print('%5d %-5d %10d' %(3, 4, 5))\n",
    "print('%0.2f' %(3.1415926))"
   ]
  },
  {
   "cell_type": "code",
   "execution_count": 8,
   "metadata": {},
   "outputs": [
    {
     "name": "stdout",
     "output_type": "stream",
     "text": [
      "42863.1000\n",
      "        42863.10\n",
      "42863.10        \n",
      "*******42,863.10\n"
     ]
    }
   ],
   "source": [
    "value = 42863.1\n",
    "print(f'{value:0.4f}')\n",
    "print(f'{value:>16.2f}')\n",
    "print(f'{value:<16.2f}')\n",
    "print(f'{value:*>16,.2f}')"
   ]
  },
  {
   "cell_type": "code",
   "execution_count": null,
   "metadata": {},
   "outputs": [],
   "source": []
  }
 ],
 "metadata": {
  "interpreter": {
   "hash": "f7e437f51093040c186fe1fdf3815d5791d8856d54a1d09b959b5ae0e56a4015"
  },
  "kernelspec": {
   "display_name": "Python 3.9.10 64-bit ('study3.9')",
   "language": "python",
   "name": "python3"
  },
  "language_info": {
   "codemirror_mode": {
    "name": "ipython",
    "version": 3
   },
   "file_extension": ".py",
   "mimetype": "text/x-python",
   "name": "python",
   "nbconvert_exporter": "python",
   "pygments_lexer": "ipython3",
   "version": "3.9.10"
  },
  "orig_nbformat": 4
 },
 "nbformat": 4,
 "nbformat_minor": 2
}
