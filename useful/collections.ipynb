{
 "cells": [
  {
   "cell_type": "markdown",
   "metadata": {},
   "source": [
    "- https://m.blog.naver.com/PostView.naver?isHttpsRedirect=true&blogId=ouo7581&logNo=221543909505\n",
    "- https://codingspooning.tistory.com/115"
   ]
  },
  {
   "cell_type": "markdown",
   "metadata": {},
   "source": [
    "## Counter\n",
    "> Counter은 dict의 subclass로써 새로운 인스턴스를 만드는 class, dict 내 아이탬의 발생빈도를 카운트하여 저장한다.\n",
    "- 메소드\n",
    "  - update(): Counter의 값 갱신\n",
    "  - elements(): 값의 요소 반환(무작위 순서)\n",
    "  - most_common(n): 빈도수가 높은 순으로 tuple 형태로 반환\n",
    "  - subtract(): 해당하는 요소를 빼주며 0보다 작을 시 음수\n"
   ]
  },
  {
   "cell_type": "code",
   "execution_count": 12,
   "metadata": {},
   "outputs": [
    {
     "name": "stdout",
     "output_type": "stream",
     "text": [
      "Counter({'A': 3, 'B': 1, 'C': 1, 'D': 1})\n",
      "Counter({'A': 3, 'C': 2, 'B': 1, 'D': 1, 'E': 1})\n",
      "[('A', 3), ('C', 2)]\n",
      "Counter({'A': 3, 'B': 1, 'C': 1, 'D': 1, 'E': 0})\n",
      "Counter({'a': 3, 'b': 0, 'c': -3, 'd': -6})\n"
     ]
    }
   ],
   "source": [
    "from collections import Counter\n",
    "\n",
    "scores = ['A', 'B', 'C', 'D', 'A', 'A']\n",
    "counter = Counter(scores)\n",
    "print(counter)\n",
    "\n",
    "# update()\n",
    "score2 = ['C', 'E']\n",
    "counter.update(score2)\n",
    "print(counter)\n",
    "\n",
    "# elements()\n",
    "list(counter.elements())\n",
    "\n",
    "# most_common(n)\n",
    "print(counter.most_common(2))\n",
    "\n",
    "# subtract()\n",
    "counter.subtract(score2)\n",
    "print(counter)\n",
    "\n",
    "c = Counter(a=4, b=2, c=0, d=-2)\n",
    "d = Counter(a=1, b=2, c=3, d=4)\n",
    "c.subtract(d)\n",
    "print(c)"
   ]
  },
  {
   "cell_type": "code",
   "execution_count": 11,
   "metadata": {},
   "outputs": [
    {
     "name": "stdout",
     "output_type": "stream",
     "text": [
      "Counter({'번역': 2, '카카오의': 1, '인공지능': 1, '기반': 1, '서비스': 1, \"'카카오\": 1, \"변역'이\": 1, '대폭': 1, '개편됐다.': 1, '1년': 1, '반': 1, '전': 1, '후발주자인': 1, '카카오는': 1, '22일': 1, '기존': 1, '6개였던': 1, '언어': 1, '종류를': 1, '19개로': 1, '확장했다고': 1, '밝혔다.': 1})\n"
     ]
    }
   ],
   "source": [
    "text = \"\"\"\n",
    "카카오의 인공지능 기반 번역 서비스 '카카오 변역'이 대폭 개편됐다. 1년 반 전 후발주자인 카카오는 22일 기존 6개였던 번역 언어 종류를 19개로 확장했다고 밝혔다.\n",
    "\"\"\"\n",
    "data = text.split()\n",
    "print(Counter(data))"
   ]
  },
  {
   "cell_type": "markdown",
   "metadata": {},
   "source": [
    "### deque\n",
    "- deque 모듈은 스택과 큐를 모두 지원하는 모듈이다.\n",
    "- Deque 모듈을 사용하기 위해서는 리스트와 비슷한 형식으로 데이터를 저장해야 한다. 먼저 append() 함수를 사용하면 기존 리스트처럼 데이터가 인덱스 번호를 늘리면서 쌓이기 시작한다.\n",
    "- `appendleft()` 함수로 새로운 값을 왼쪽부터 입력되게 하여 먼저 들어간 값부터 출력될 수 있도록 할 수 있다."
   ]
  },
  {
   "cell_type": "code",
   "execution_count": 14,
   "metadata": {},
   "outputs": [
    {
     "name": "stdout",
     "output_type": "stream",
     "text": [
      "deque([0, 1, 2, 3, 4])\n",
      "deque([0, 1])\n",
      "deque([4, 3, 2, 1, 0])\n"
     ]
    }
   ],
   "source": [
    "from collections import deque \n",
    "\n",
    "deque_list = deque()\n",
    "for i in range(5):\n",
    "  deque_list.append(i)\n",
    "\n",
    "print(deque_list)\n",
    "\n",
    "deque_list.pop() # 4\n",
    "deque_list.pop() # 3\n",
    "deque_list.pop() # 2\n",
    "\n",
    "print(deque_list)\n",
    "\n",
    "# appendleft()\n",
    "deque_list = deque()\n",
    "for i in range(5):\n",
    "  deque_list.appendleft(i)\n",
    "\n",
    "print(deque_list)\n"
   ]
  },
  {
   "cell_type": "markdown",
   "metadata": {},
   "source": [
    "## OrderedDict\n",
    "> 순서(시퀀스)를 유지하기 위해 linked list가 내부에 구성되어 각 순서가 유지되는 딕셔너리  "
   ]
  },
  {
   "cell_type": "code",
   "execution_count": 15,
   "metadata": {},
   "outputs": [
    {
     "name": "stdout",
     "output_type": "stream",
     "text": [
      "b 100\n",
      "a 500\n",
      "c 200\n",
      "e 300\n"
     ]
    }
   ],
   "source": [
    "d = {}\n",
    "d['b'] = 100\n",
    "d['a'] = 500\n",
    "d['c'] = 200\n",
    "d['e'] = 300\n",
    "\n",
    "for k, v in d.items():\n",
    "  print(k, v)"
   ]
  },
  {
   "cell_type": "code",
   "execution_count": 19,
   "metadata": {},
   "outputs": [
    {
     "name": "stdout",
     "output_type": "stream",
     "text": [
      "a 500\n",
      "b 100\n",
      "c 200\n",
      "e 300\n"
     ]
    }
   ],
   "source": [
    "from collections import OrderedDict \n",
    "\n",
    "def sort_by_key(t):\n",
    "  return t[0]\n",
    "\n",
    "d = dict()\n",
    "d['b'] = 100\n",
    "d['a'] = 500\n",
    "d['c'] = 200\n",
    "d['e'] = 300\n",
    "\n",
    "for k, v in OrderedDict(sorted(d.items(), key=sort_by_key)).items():\n",
    "  print(k, v)"
   ]
  },
  {
   "cell_type": "code",
   "execution_count": null,
   "metadata": {},
   "outputs": [],
   "source": []
  }
 ],
 "metadata": {
  "interpreter": {
   "hash": "f7e437f51093040c186fe1fdf3815d5791d8856d54a1d09b959b5ae0e56a4015"
  },
  "kernelspec": {
   "display_name": "Python 3.9.10 64-bit ('study3.9')",
   "language": "python",
   "name": "python3"
  },
  "language_info": {
   "codemirror_mode": {
    "name": "ipython",
    "version": 3
   },
   "file_extension": ".py",
   "mimetype": "text/x-python",
   "name": "python",
   "nbconvert_exporter": "python",
   "pygments_lexer": "ipython3",
   "version": "3.9.10+"
  },
  "orig_nbformat": 4
 },
 "nbformat": 4,
 "nbformat_minor": 2
}
