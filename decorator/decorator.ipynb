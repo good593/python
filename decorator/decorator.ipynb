{
 "cells": [
  {
   "cell_type": "markdown",
   "metadata": {},
   "source": [
    "# Decorator\n",
    "> 사전적 의미로는 '장식가' 또는 '인테리어 디자이너' 등의 의미를 가지고 있습니다. 이름 그대로, 자신의 방을 예쁜 벽지나 커튼으로 장식을 하듯이, 기존의 코드에 여러가지 기능을 추가하는 파이썬 구문이라고 생각하면 됩니다.\n",
    "\n",
    "- https://schoolofweb.net/blog/posts/파이썬-데코레이터-decorator/\n",
    "- https://engineer-mole.tistory.com/181"
   ]
  },
  {
   "cell_type": "code",
   "execution_count": 1,
   "metadata": {},
   "outputs": [
    {
     "name": "stdout",
     "output_type": "stream",
     "text": [
      "hi\n",
      "byb\n"
     ]
    }
   ],
   "source": [
    "# python closure\n",
    "def outer_func(msg):\n",
    "  def inner_func():\n",
    "    print(msg)\n",
    "\n",
    "  return inner_func\n",
    "\n",
    "hi = outer_func('hi')\n",
    "bye = outer_func('byb')\n",
    "\n",
    "hi()\n",
    "bye()"
   ]
  },
  {
   "cell_type": "markdown",
   "metadata": {},
   "source": [
    "### 1. 데코레이터\n",
    "\n",
    "> 데코레이터 코드는 위의 클로저 코드와 비슷합니다. 다만 함수를 다른 함수의 인자로 전달한다는 점이 조금 다릅니다.   \n",
    "> 아래는 가장 간단한 데코레이터 예제입니다."
   ]
  },
  {
   "cell_type": "code",
   "execution_count": 2,
   "metadata": {},
   "outputs": [
    {
     "name": "stdout",
     "output_type": "stream",
     "text": [
      "display ~~~\n"
     ]
    }
   ],
   "source": [
    "def decorator_func(original_func):  # 1\n",
    "  def wrapper_func(): # 5\n",
    "    return original_func()  # 7\n",
    "  \n",
    "  return wrapper_func # 6\n",
    "\n",
    "def display_func(): # 2\n",
    "  print('display ~~~')  # 8\n",
    "\n",
    "decorated_display = decorator_func(display_func)  # 3\n",
    "decorated_display() # 4"
   ]
  },
  {
   "cell_type": "markdown",
   "metadata": {},
   "source": [
    "> 복잡한 데코레이터라는 것을 도데체 왜 사용하는 걸까?   \n",
    "> 기존의 코드를 수정하지 않고도, 래퍼(wrapper)함수를 이용하여 여러가지 기능을 추가할 수가 있기 때문이다."
   ]
  },
  {
   "cell_type": "code",
   "execution_count": 4,
   "metadata": {},
   "outputs": [
    {
     "name": "stdout",
     "output_type": "stream",
     "text": [
      "display_1 함수가 호출되기전 입니다.\n",
      "display_1 ~~~~\n",
      "----------\n",
      "display_2 함수가 호출되기전 입니다.\n",
      "display_2 ~~~\n"
     ]
    }
   ],
   "source": [
    "def decorator_func(original_func):\n",
    "  def wrapper_func():\n",
    "    print(f'{original_func.__name__} 함수가 호출되기전 입니다.')\n",
    "    return original_func()\n",
    "  \n",
    "  return wrapper_func \n",
    "\n",
    "def display_1():\n",
    "  print('display_1 ~~~~')\n",
    "\n",
    "def display_2():\n",
    "  print('display_2 ~~~')\n",
    "\n",
    "display1 = decorator_func(display_1)\n",
    "display2 = decorator_func(display_2)\n",
    "\n",
    "display1()\n",
    "print('-'*10)\n",
    "display2()"
   ]
  },
  {
   "cell_type": "markdown",
   "metadata": {},
   "source": [
    "> 위의 코드를 데코레이터 함수가 적용된 코드로 수정"
   ]
  },
  {
   "cell_type": "code",
   "execution_count": 6,
   "metadata": {},
   "outputs": [
    {
     "name": "stdout",
     "output_type": "stream",
     "text": [
      "display_1 함수가 호출되기전 입니다.\n",
      "display_1 ~~~~\n",
      "----------\n",
      "display_2 함수가 호출되기전 입니다.\n",
      "display_2 ~~~\n"
     ]
    }
   ],
   "source": [
    "def decorator_func(original_func):\n",
    "  def wrapper_func():\n",
    "    print(f'{original_func.__name__} 함수가 호출되기전 입니다.')\n",
    "    return original_func()\n",
    "  \n",
    "  return wrapper_func \n",
    "\n",
    "@decorator_func\n",
    "def display_1():\n",
    "  print('display_1 ~~~~')\n",
    "\n",
    "@decorator_func\n",
    "def display_2():\n",
    "  print('display_2 ~~~')\n",
    "\n",
    "# display1 = decorator_func(display_1)\n",
    "# display2 = decorator_func(display_2)\n",
    "\n",
    "display_1()\n",
    "print('-'*10)\n",
    "display_2()"
   ]
  },
  {
   "cell_type": "markdown",
   "metadata": {},
   "source": [
    "### 2. 인수를 가진 함수를 데코레이팅\n",
    "- *args: 임의의 수의 필수 파라미터를 수용함  \n",
    "```python\n",
    "# 예제\n",
    "def one(*args):\n",
    "  print(args)\n",
    "\n",
    "one(1, 2, 3)\n",
    "\n",
    "def add(x, y):\n",
    "  return x + y\n",
    "\n",
    "lst = [1, 2]\n",
    "add(lst[0], lst[1]) #1\n",
    "add(*lst) #1과 완전히 같음\n",
    "```\n",
    "- **kwargs: 리스트가 아닌 사전형 파라미터\n",
    "```python\n",
    "# 예제\n",
    "def one(**kwargs):\n",
    "  print(kwargs)\n",
    "\n",
    "one(x=1, y=2)\n",
    "\n",
    "def add(x, y):\n",
    "  return x + y\n",
    "\n",
    "dct = {'x':1, 'y':2}\n",
    "add(**dct)\n",
    "```"
   ]
  },
  {
   "cell_type": "code",
   "execution_count": 8,
   "metadata": {},
   "outputs": [
    {
     "name": "stdout",
     "output_type": "stream",
     "text": [
      "display_1 함수가 호출되기전 입니다.\n",
      "display_1 ~~~~\n",
      "----------\n",
      "display_2 함수가 호출되기전 입니다.\n",
      "John의 나이는 25\n"
     ]
    }
   ],
   "source": [
    "def decorator_func(original_func):\n",
    "  def wrapper_func(*args, **kwargs):\n",
    "    print(f'{original_func.__name__} 함수가 호출되기전 입니다.')\n",
    "    return original_func(*args, **kwargs)\n",
    "  \n",
    "  return wrapper_func \n",
    "\n",
    "@decorator_func\n",
    "def display_1():\n",
    "  print('display_1 ~~~~')\n",
    "\n",
    "@decorator_func\n",
    "def display_2(name, age):\n",
    "  print(f'{name}의 나이는 {age}')\n",
    "\n",
    "\n",
    "display_1()\n",
    "print('-'*10)\n",
    "display_2('John', 25)"
   ]
  },
  {
   "cell_type": "markdown",
   "metadata": {},
   "source": [
    "### 3. 데코레이터 클래스 버전"
   ]
  },
  {
   "cell_type": "code",
   "execution_count": 10,
   "metadata": {},
   "outputs": [
    {
     "name": "stdout",
     "output_type": "stream",
     "text": [
      "display_1 함수가 호출되기전 입니다.\n",
      "display_1 ~~~~\n",
      "----------\n",
      "display_2 함수가 호출되기전 입니다.\n",
      "John의 나이는 25\n"
     ]
    }
   ],
   "source": [
    "class DecoratorClass:\n",
    "  def __init__(self, original_func):\n",
    "    self.original_func = original_func\n",
    "\n",
    "  def __call__(self, *args, **kwargs):\n",
    "    print(f'{self.original_func.__name__} 함수가 호출되기전 입니다.')\n",
    "    return self.original_func(*args, **kwargs)\n",
    "\n",
    "@DecoratorClass\n",
    "def display1():\n",
    "  print('display1 ~~~~~')\n",
    "\n",
    "@DecoratorClass\n",
    "def display2(name, age):\n",
    "  print(f'{name}의 나이는 {age}')\n",
    "\n",
    "display_1()\n",
    "print('-'*10)\n",
    "display_2('John', 25)"
   ]
  },
  {
   "cell_type": "markdown",
   "metadata": {},
   "source": [
    "### 4. 실전 예제"
   ]
  },
  {
   "cell_type": "code",
   "execution_count": 13,
   "metadata": {},
   "outputs": [
    {
     "name": "stdout",
     "output_type": "stream",
     "text": [
      "[2022-04-08 18:46] 실행결과 args - ('Cho', 40), kwargs - {}\n",
      "display_info ~~~~\n"
     ]
    }
   ],
   "source": [
    "\"\"\"\n",
    "리눅스나 유닉스 서버 관리자는 스크립트가 실행되는 시간을 측정하기 위한 기능\n",
    "\"\"\"\n",
    "import datetime\n",
    "import time \n",
    "\n",
    "def my_logger(original_func):\n",
    "  import logging \n",
    "  filename = f'{original_func.__name__}.log'\n",
    "  logging.basicConfig(handlers=[logging.FileHandler(filename, 'a', 'utf-8')], level=logging.INFO) \n",
    "\n",
    "  def wrapper(*args, **kwargs):\n",
    "    timestamp = datetime.datetime.now().strftime('%Y-%m-%d %H:%M')\n",
    "    logging.info(f'[{timestamp}] 실행결과 args - {args}, kwargs - {kwargs}')\n",
    "    print(f'[{timestamp}] 실행결과 args - {args}, kwargs - {kwargs}')\n",
    "    return original_func(*args, **kwargs)\n",
    "\n",
    "  return wrapper\n",
    "\n",
    "@my_logger\n",
    "def display_info(name, age):\n",
    "  time.sleep(1)\n",
    "  print(f'display_info ~~~~')\n",
    "\n",
    "display_info('Cho', 40)"
   ]
  },
  {
   "cell_type": "code",
   "execution_count": 14,
   "metadata": {},
   "outputs": [
    {
     "name": "stdout",
     "output_type": "stream",
     "text": [
      "display_info ~~~~\n",
      "display_info 함수의 실행된 총 시간: 1.0051250457763672\n"
     ]
    }
   ],
   "source": [
    "\"\"\"\n",
    "프로그램이 실행되는 시간 측정\n",
    "\"\"\"\n",
    "import datetime \n",
    "import time \n",
    "\n",
    "def my_timer(original_func):\n",
    "  import time \n",
    "\n",
    "  def wrapper(*args, **kwargs):\n",
    "    t1 = time.time()\n",
    "    result = original_func(*args, **kwargs)\n",
    "    t2 = time.time() - t1\n",
    "    print(f'{original_func.__name__} 함수의 실행된 총 시간: {t2}')\n",
    "    return result \n",
    "\n",
    "  return wrapper \n",
    "\n",
    "@my_timer\n",
    "def display_info(name, age):\n",
    "  time.sleep(1)\n",
    "  print(f'display_info ~~~~')\n",
    "\n",
    "display_info('Cho', 40)"
   ]
  },
  {
   "cell_type": "code",
   "execution_count": 19,
   "metadata": {},
   "outputs": [
    {
     "name": "stdout",
     "output_type": "stream",
     "text": [
      "[2022-04-08 19:02] 실행결과 args - ('Cho', 40), kwargs - {}\n",
      "display_info ~~~~\n",
      "display_info 함수의 실행된 총 시간: 1.0044019222259521\n"
     ]
    }
   ],
   "source": [
    "\"\"\"\n",
    "데코레이터 두개 동시 실행\n",
    "\"\"\"\n",
    "from functools import wraps\n",
    "import datetime\n",
    "import time \n",
    "\n",
    "def my_logger(original_func):\n",
    "  import logging \n",
    "  filename = f'{original_func.__name__}.log'\n",
    "  logging.basicConfig(handlers=[logging.FileHandler(filename, 'a', 'utf-8')], level=logging.INFO) \n",
    "\n",
    "  @wraps(original_func)\n",
    "  def wrapper(*args, **kwargs):\n",
    "    timestamp = datetime.datetime.now().strftime('%Y-%m-%d %H:%M')\n",
    "    logging.info(f'[{timestamp}] 실행결과 args - {args}, kwargs - {kwargs}')\n",
    "    print(f'[{timestamp}] 실행결과 args - {args}, kwargs - {kwargs}')\n",
    "    return original_func(*args, **kwargs)\n",
    "\n",
    "  return wrapper\n",
    "\n",
    "def my_timer(original_func):\n",
    "  import time \n",
    "\n",
    "  @wraps(original_func)\n",
    "  def wrapper(*args, **kwargs):\n",
    "    t1 = time.time()\n",
    "    result = original_func(*args, **kwargs)\n",
    "    t2 = time.time() - t1\n",
    "    print(f'{original_func.__name__} 함수의 실행된 총 시간: {t2}')\n",
    "    return result \n",
    "\n",
    "  return wrapper   \n",
    "\n",
    "@my_timer\n",
    "@my_logger\n",
    "def display_info(name, age):\n",
    "  time.sleep(1)\n",
    "  print(f'display_info ~~~~')\n",
    "\n",
    "display_info('Cho', 40)"
   ]
  },
  {
   "cell_type": "code",
   "execution_count": null,
   "metadata": {},
   "outputs": [],
   "source": []
  }
 ],
 "metadata": {
  "interpreter": {
   "hash": "f7e437f51093040c186fe1fdf3815d5791d8856d54a1d09b959b5ae0e56a4015"
  },
  "kernelspec": {
   "display_name": "Python 3.9.10 64-bit ('study3.9')",
   "language": "python",
   "name": "python3"
  },
  "language_info": {
   "codemirror_mode": {
    "name": "ipython",
    "version": 3
   },
   "file_extension": ".py",
   "mimetype": "text/x-python",
   "name": "python",
   "nbconvert_exporter": "python",
   "pygments_lexer": "ipython3",
   "version": "3.9.10"
  },
  "orig_nbformat": 4
 },
 "nbformat": 4,
 "nbformat_minor": 2
}
