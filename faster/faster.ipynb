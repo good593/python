{
 "cells": [
  {
   "cell_type": "markdown",
   "metadata": {},
   "source": [
    "- https://www.loginradius.com/blog/engineering/speed-up-python-code/\n",
    "- https://towardsdatascience.com/10-ways-to-speed-up-your-python-code-e3d57630b710"
   ]
  },
  {
   "cell_type": "markdown",
   "metadata": {},
   "source": [
    "# Use Multiple Assignments"
   ]
  },
  {
   "cell_type": "code",
   "execution_count": 21,
   "metadata": {},
   "outputs": [],
   "source": [
    "# bad\n",
    "firstName = \"John\"\n",
    "lastName = \"Henry\"\n",
    "city = \"Manchester\""
   ]
  },
  {
   "cell_type": "code",
   "execution_count": 22,
   "metadata": {},
   "outputs": [],
   "source": [
    "# good\n",
    "firstName, lastName, city = \"John\", \"Henry\", \"Manchester\""
   ]
  },
  {
   "cell_type": "markdown",
   "metadata": {},
   "source": [
    "# Use list comprehension"
   ]
  },
  {
   "cell_type": "code",
   "execution_count": 1,
   "metadata": {},
   "outputs": [],
   "source": [
    "# bad\n",
    "L = []\n",
    "for i in range(1, 1000):\n",
    "  if i%3 == 0:\n",
    "    L.append(i)"
   ]
  },
  {
   "cell_type": "code",
   "execution_count": 2,
   "metadata": {},
   "outputs": [],
   "source": [
    "# good\n",
    "L = [ i for i in range(1, 1000) if i%3 == 0]"
   ]
  },
  {
   "cell_type": "markdown",
   "metadata": {},
   "source": [
    "#### Take Advatage of Numpy"
   ]
  },
  {
   "cell_type": "code",
   "execution_count": 15,
   "metadata": {},
   "outputs": [
    {
     "data": {
      "text/plain": [
       "100000"
      ]
     },
     "execution_count": 15,
     "metadata": {},
     "output_type": "execute_result"
    }
   ],
   "source": [
    "# not good\n",
    "python_list = [i for i in range(100000)]\n",
    "len([i**2 for i in python_list])"
   ]
  },
  {
   "cell_type": "code",
   "execution_count": 17,
   "metadata": {},
   "outputs": [
    {
     "data": {
      "text/plain": [
       "100000"
      ]
     },
     "execution_count": 17,
     "metadata": {},
     "output_type": "execute_result"
    }
   ],
   "source": [
    "# good\n",
    "import numpy as np\n",
    "\n",
    "numpy_array = np.array([i for i in np.arange(0, 100000)])\n",
    "np.square(numpy_array).size"
   ]
  },
  {
   "cell_type": "markdown",
   "metadata": {},
   "source": [
    "# collections\n",
    "\n",
    "#### Counter"
   ]
  },
  {
   "cell_type": "code",
   "execution_count": 18,
   "metadata": {},
   "outputs": [],
   "source": [
    "from collections import Counter\n",
    "\n",
    "sequence = \"AGAGKTAGAT\" * 1000000"
   ]
  },
  {
   "cell_type": "code",
   "execution_count": 19,
   "metadata": {},
   "outputs": [
    {
     "data": {
      "text/plain": [
       "[4000000, 3000000, 2000000, 1000000]"
      ]
     },
     "execution_count": 19,
     "metadata": {},
     "output_type": "execute_result"
    }
   ],
   "source": [
    "# bad\n",
    "def count_string(seq):\n",
    "  return [seq.count(\"A\"), seq.count('G'), seq.count('T'), seq.count('K')]\n",
    "\n",
    "count_string(sequence)"
   ]
  },
  {
   "cell_type": "code",
   "execution_count": 20,
   "metadata": {},
   "outputs": [
    {
     "data": {
      "text/plain": [
       "[4000000, 3000000, 2000000, 1000000]"
      ]
     },
     "execution_count": 20,
     "metadata": {},
     "output_type": "execute_result"
    }
   ],
   "source": [
    "# good\n",
    "def count_Counter(seq):\n",
    "  counter = Counter(seq)\n",
    "  return [counter[\"A\"], counter[\"G\"], counter[\"T\"], counter[\"K\"]]\n",
    "\n",
    "count_Counter(sequence)"
   ]
  },
  {
   "cell_type": "markdown",
   "metadata": {},
   "source": [
    "# Concatenate strings with join\n",
    "> join() concatenates strings faster than + operation because + operators create a new string and then copies the old content at each step."
   ]
  },
  {
   "cell_type": "code",
   "execution_count": 3,
   "metadata": {},
   "outputs": [],
   "source": [
    "# bad\n",
    "concatenatedString = \"Programming \"+\"is \"+\"fun.\""
   ]
  },
  {
   "cell_type": "code",
   "execution_count": 4,
   "metadata": {},
   "outputs": [],
   "source": [
    "# good\n",
    "concatenatedString = \" \".join([\"Programming\", \"is\", \"fun.\"])"
   ]
  },
  {
   "cell_type": "markdown",
   "metadata": {},
   "source": [
    "# Do not use dot operation\n",
    "> because when you call a function using .(dot)it first calls `__getattribute()__` or `__getattr()__` which then use dictionary operation which costs time."
   ]
  },
  {
   "cell_type": "code",
   "execution_count": 9,
   "metadata": {},
   "outputs": [],
   "source": [
    "# bad\n",
    "import math \n",
    "val = math.sqrt(60)"
   ]
  },
  {
   "cell_type": "code",
   "execution_count": 8,
   "metadata": {},
   "outputs": [],
   "source": [
    "from math import sqrt \n",
    "val = sqrt(60)"
   ]
  },
  {
   "cell_type": "code",
   "execution_count": null,
   "metadata": {},
   "outputs": [],
   "source": []
  }
 ],
 "metadata": {
  "interpreter": {
   "hash": "819822aad1d7dd5a8911f6442f86af1dcc8bcd014a1dc82c30af569169ee7dac"
  },
  "kernelspec": {
   "display_name": "Python 3.9.10 64-bit ('pytorch3.9')",
   "language": "python",
   "name": "python3"
  },
  "language_info": {
   "codemirror_mode": {
    "name": "ipython",
    "version": 3
   },
   "file_extension": ".py",
   "mimetype": "text/x-python",
   "name": "python",
   "nbconvert_exporter": "python",
   "pygments_lexer": "ipython3",
   "version": "3.9.10"
  },
  "orig_nbformat": 4
 },
 "nbformat": 4,
 "nbformat_minor": 2
}
